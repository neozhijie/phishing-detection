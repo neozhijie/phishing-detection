{
 "cells": [
  {
   "cell_type": "code",
   "execution_count": 1,
   "id": "887e724a-94fb-4e26-a958-3f6508bd21c5",
   "metadata": {},
   "outputs": [
    {
     "name": "stderr",
     "output_type": "stream",
     "text": [
      "C:\\Users\\linyu\\AppData\\Local\\Temp\\ipykernel_26428\\3459847097.py:2: DeprecationWarning: \n",
      "Pyarrow will become a required dependency of pandas in the next major release of pandas (pandas 3.0),\n",
      "(to allow more performant data types, such as the Arrow string type, and better interoperability with other libraries)\n",
      "but was not found to be installed on your system.\n",
      "If this would cause problems for you,\n",
      "please provide us feedback at https://github.com/pandas-dev/pandas/issues/54466\n",
      "        \n",
      "  import pandas as pd\n"
     ]
    }
   ],
   "source": [
    "# Import packages\n",
    "import pandas as pd\n",
    "import numpy as np\n",
    "import matplotlib.pyplot as plt\n",
    "from sklearn.feature_selection import VarianceThreshold\n",
    "import seaborn as sns\n",
    "from sklearn.ensemble import RandomForestClassifier\n",
    "from sklearn.linear_model import LassoCV\n",
    "from sklearn.model_selection import train_test_split\n",
    "from sklearn.preprocessing import StandardScaler, LabelEncoder\n",
    "from sklearn.metrics import (accuracy_score, precision_score, recall_score, f1_score, roc_auc_score, classification_report, confusion_matrix)"
   ]
  },
  {
   "cell_type": "code",
   "execution_count": 2,
   "id": "bfffbf90-add9-4011-82e2-9db029fd9b58",
   "metadata": {},
   "outputs": [],
   "source": [
    "# Read data\n",
    "df = pd.read_csv('dataset_phishing.csv')"
   ]
  },
  {
   "cell_type": "code",
   "execution_count": 3,
   "id": "77671735-877f-4e9e-8c93-0e90f9420d9f",
   "metadata": {},
   "outputs": [],
   "source": [
    "features = ['shortest_word_path',\n",
    " 'ratio_intMedia',\n",
    " 'links_in_tags',\n",
    " 'nb_hyphens',\n",
    " 'page_rank',\n",
    " 'avg_word_path',\n",
    " 'ratio_extHyperlinks',\n",
    " 'longest_words_raw',\n",
    " 'google_index',\n",
    " 'length_hostname',\n",
    " 'longest_word_host',\n",
    " 'domain_registration_length',\n",
    " 'nb_www',\n",
    " 'nb_underscore',\n",
    " 'nb_dots',\n",
    " 'ratio_extMedia',\n",
    " 'phish_hints',\n",
    " 'domain_in_title',\n",
    " 'web_traffic',\n",
    " 'safe_anchor',\n",
    " 'nb_space',\n",
    " 'shortening_service',\n",
    " 'ip',\n",
    " 'domain_age',\n",
    " 'nb_qm',\n",
    " 'nb_hyperlinks',\n",
    " 'nb_slash']"
   ]
  },
  {
   "cell_type": "code",
   "execution_count": 4,
   "id": "8c83b0ac-9b8e-4cfe-b715-4002ae2437db",
   "metadata": {},
   "outputs": [],
   "source": [
    "X = df[features]\n",
    "\n",
    "scaler = StandardScaler()\n",
    "X_scaled = scaler.fit_transform(X)\n",
    "\n",
    "le = LabelEncoder()\n",
    "y = le.fit_transform(df[\"status\"])\n",
    "\n",
    "X_train, X_test, y_train, y_test = train_test_split(X_scaled, y, test_size=0.3, random_state=42)"
   ]
  },
  {
   "cell_type": "code",
   "execution_count": null,
   "id": "960ff5b6-b4a2-430e-852f-a8effe01a268",
   "metadata": {},
   "outputs": [],
   "source": []
  }
 ],
 "metadata": {
  "kernelspec": {
   "display_name": "Python 3 (ipykernel)",
   "language": "python",
   "name": "python3"
  },
  "language_info": {
   "codemirror_mode": {
    "name": "ipython",
    "version": 3
   },
   "file_extension": ".py",
   "mimetype": "text/x-python",
   "name": "python",
   "nbconvert_exporter": "python",
   "pygments_lexer": "ipython3",
   "version": "3.12.1"
  }
 },
 "nbformat": 4,
 "nbformat_minor": 5
}
