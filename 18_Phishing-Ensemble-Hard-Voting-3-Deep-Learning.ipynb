{
 "cells": [
  {
   "cell_type": "code",
   "execution_count": 1,
   "id": "b115cd49-2590-4065-ac57-75dd637f3e60",
   "metadata": {},
   "outputs": [],
   "source": [
    "from imblearn.over_sampling import SMOTE\n",
    "from keras import Sequential\n",
    "from keras.layers import Dense, LSTM, Activation, Dropout\n",
    "from keras_tuner.tuners import GridSearch\n",
    "from scikeras.wrappers import KerasClassifier\n",
    "from sklearn.ensemble import RandomForestClassifier\n",
    "from sklearn.feature_selection import VarianceThreshold\n",
    "from sklearn.linear_model import LassoCV\n",
    "from sklearn.metrics import (accuracy_score, precision_score, recall_score, f1_score, roc_auc_score, classification_report, confusion_matrix)\n",
    "from sklearn.metrics import accuracy_score, precision_score, recall_score, f1_score, roc_auc_score, confusion_matrix, classification_report\n",
    "from sklearn.model_selection import GridSearchCV\n",
    "from sklearn.model_selection import train_test_split\n",
    "from sklearn.model_selection import train_test_split, GridSearchCV\n",
    "from sklearn.neural_network import MLPClassifier\n",
    "from sklearn.preprocessing import StandardScaler\n",
    "from sklearn.preprocessing import StandardScaler, LabelEncoder\n",
    "from sklearn.utils.class_weight import compute_class_weight\n",
    "from tensorflow.keras.callbacks import EarlyStopping\n",
    "from tensorflow.keras.layers import (Conv1D, MaxPooling1D, Flatten, Dense, Dropout, BatchNormalization)\n",
    "from tensorflow.keras.models import Sequential\n",
    "from tensorflow.keras.optimizers import Adam\n",
    "import matplotlib.pyplot as plt\n",
    "import numpy as np\n",
    "import os\n",
    "import pandas as pd\n",
    "import random\n",
    "import seaborn as sns\n",
    "import tensorflow as tf"
   ]
  },
  {
   "cell_type": "code",
   "execution_count": 2,
   "id": "fb212d1b-7470-4a2d-8378-a5656ca20696",
   "metadata": {},
   "outputs": [],
   "source": [
    "# MLP"
   ]
  },
  {
   "cell_type": "code",
   "execution_count": 3,
   "id": "dd1cafb4-bb15-4626-bbe5-bd903644a37f",
   "metadata": {},
   "outputs": [],
   "source": [
    "# Read data\n",
    "df = pd.read_csv('dataset_phishing.csv')\n",
    "\n",
    "features = ['shortest_word_path', 'ratio_intMedia', 'links_in_tags', 'nb_hyphens', 'page_rank', 'avg_word_path', 'ratio_extHyperlinks', 'longest_words_raw', 'google_index', 'length_hostname', 'longest_word_host', 'domain_registration_length', 'nb_www', 'nb_underscore', 'nb_dots', 'ratio_extMedia', 'phish_hints', 'domain_in_title', 'web_traffic', 'safe_anchor', 'nb_space', 'shortening_service', 'ip', 'domain_age', 'nb_qm', 'nb_hyperlinks', 'nb_slash']"
   ]
  },
  {
   "cell_type": "code",
   "execution_count": 4,
   "id": "acc03950-2753-40de-af76-ad9519783b7d",
   "metadata": {},
   "outputs": [],
   "source": [
    "X = df[features]\n",
    "\n",
    "scaler = StandardScaler()\n",
    "X_scaled = scaler.fit_transform(X)\n",
    "\n",
    "le = LabelEncoder()\n",
    "y = le.fit_transform(df[\"status\"])\n",
    "\n",
    "X_train, X_temp, y_train, y_temp = train_test_split(X_scaled, y, test_size=0.3, stratify=y, random_state=42)\n",
    "\n",
    "X_val, X_test, y_val, y_test = train_test_split(X_temp, y_temp, test_size=0.5, random_state=42)"
   ]
  },
  {
   "cell_type": "code",
   "execution_count": 5,
   "id": "991c2361-ffec-408d-9775-0f0c725bcc84",
   "metadata": {},
   "outputs": [
    {
     "name": "stdout",
     "output_type": "stream",
     "text": [
      "Fitting 5 folds for each of 12 candidates, totalling 60 fits\n"
     ]
    }
   ],
   "source": [
    "# Handle class imbalance by oversampling the minority class (phishing)\n",
    "smote = SMOTE(random_state=42)\n",
    "X_resampled, y_resampled = smote.fit_resample(X_train, y_train)\n",
    "\n",
    "# Define the MLPClassifier with early stopping to avoid overfitting\n",
    "mlp = MLPClassifier(random_state=42, early_stopping=True, validation_fraction=0.15)\n",
    "\n",
    "# Set up hyperparameter grid for tuning\n",
    "param_grid = {\n",
    "    'hidden_layer_sizes': [(200, 100)],\n",
    "    'activation': ['relu', 'tanh', 'logistic'],\n",
    "    'solver': ['adam', 'sgd'],\n",
    "    'alpha': [0.0001],\n",
    "    'learning_rate': ['constant', 'adaptive'],\n",
    "    'learning_rate_init': [0.008],\n",
    "}\n",
    "\n",
    "# Use GridSearchCV to find the best hyperparameters\n",
    "grid_search = GridSearchCV(mlp, param_grid, cv=5, scoring='recall', n_jobs=-1, verbose=2)\n",
    "grid_search.fit(X_resampled, y_resampled)\n",
    "\n",
    "# Get the best model from the grid search\n",
    "best_mlp = grid_search.best_estimator_\n",
    "\n",
    "# Evaluate the model on the validation set\n",
    "y_val_pred = best_mlp.predict(X_val)\n",
    "\n",
    "# Calculate performance metrics for the validation set\n",
    "val_accuracy = accuracy_score(y_val, y_val_pred)\n",
    "val_precision = precision_score(y_val, y_val_pred)\n",
    "val_recall = recall_score(y_val, y_val_pred)\n",
    "val_f1 = f1_score(y_val, y_val_pred)\n",
    "val_roc_auc = roc_auc_score(y_val, y_val_pred)"
   ]
  },
  {
   "cell_type": "code",
   "execution_count": 6,
   "id": "279fdbb8-2042-42fd-bc33-0ace11639b13",
   "metadata": {},
   "outputs": [],
   "source": [
    "# CNN"
   ]
  },
  {
   "cell_type": "code",
   "execution_count": 7,
   "id": "9509b1a2-5813-4785-b8f3-397c58b206e0",
   "metadata": {},
   "outputs": [],
   "source": [
    "# Define a seed value for reproducibility\n",
    "seed = 42\n",
    "\n",
    "# Set seeds for reproducibility\n",
    "os.environ['PYTHONHASHSEED'] = str(seed)\n",
    "random.seed(seed)\n",
    "np.random.seed(seed)\n",
    "tf.random.set_seed(seed)\n",
    "\n",
    "def create_model(filters_1=32, kernel_size_1=3, dropout_rate_1=0.2,\n",
    "                 filters_2=64, kernel_size_2=3, dropout_rate_2=0.2,\n",
    "                 dense_units=128, learning_rate=0.001):\n",
    "    model = Sequential()\n",
    "    \n",
    "    # First Conv1D layer\n",
    "    model.add(Conv1D(filters=filters_1, kernel_size=kernel_size_1,\n",
    "                     activation='relu', input_shape=(X_train_cnn.shape[1], 1),\n",
    "                     padding='same'))\n",
    "    model.add(BatchNormalization())\n",
    "    model.add(MaxPooling1D(pool_size=2))\n",
    "    model.add(Dropout(dropout_rate_1))\n",
    "    \n",
    "    # Second Conv1D layer\n",
    "    model.add(Conv1D(filters=filters_2, kernel_size=kernel_size_2,\n",
    "                     activation='relu', padding='same'))\n",
    "    model.add(BatchNormalization())\n",
    "    model.add(MaxPooling1D(pool_size=2))\n",
    "    model.add(Dropout(dropout_rate_2))\n",
    "    \n",
    "    model.add(Flatten())\n",
    "    model.add(Dense(dense_units, activation='relu'))\n",
    "    model.add(BatchNormalization())\n",
    "    model.add(Dense(1, activation='sigmoid'))\n",
    "    \n",
    "    model.compile(optimizer=Adam(learning_rate=learning_rate),\n",
    "                 loss='binary_crossentropy',\n",
    "                 metrics=['accuracy', tf.keras.metrics.Recall()])\n",
    "    \n",
    "    return model"
   ]
  },
  {
   "cell_type": "code",
   "execution_count": 8,
   "id": "1b389212-3d81-434c-80c2-0cc9dd19358b",
   "metadata": {},
   "outputs": [
    {
     "name": "stdout",
     "output_type": "stream",
     "text": [
      "\n",
      "Training final model with best parameters...\n",
      "Epoch 1/50\n"
     ]
    },
    {
     "name": "stderr",
     "output_type": "stream",
     "text": [
      "C:\\Users\\User\\AppData\\Local\\Temp\\ipykernel_16888\\369168224.py:9: SettingWithCopyWarning: \n",
      "A value is trying to be set on a copy of a slice from a DataFrame\n",
      "\n",
      "See the caveats in the documentation: https://pandas.pydata.org/pandas-docs/stable/user_guide/indexing.html#returning-a-view-versus-a-copy\n",
      "  X.fillna(0, inplace=True)\n",
      "D:\\anaconda3\\envs\\testing\\Lib\\site-packages\\keras\\src\\layers\\convolutional\\base_conv.py:107: UserWarning: Do not pass an `input_shape`/`input_dim` argument to a layer. When using Sequential models, prefer using an `Input(shape)` object as the first layer in the model instead.\n",
      "  super().__init__(activity_regularizer=activity_regularizer, **kwargs)\n"
     ]
    },
    {
     "name": "stdout",
     "output_type": "stream",
     "text": [
      "\u001b[1m251/251\u001b[0m \u001b[32m━━━━━━━━━━━━━━━━━━━━\u001b[0m\u001b[37m\u001b[0m \u001b[1m3s\u001b[0m 4ms/step - accuracy: 0.8992 - loss: 0.2736 - recall: 0.8864 - val_accuracy: 0.9113 - val_loss: 0.2300 - val_recall: 0.8471\n",
      "Epoch 2/50\n",
      "\u001b[1m251/251\u001b[0m \u001b[32m━━━━━━━━━━━━━━━━━━━━\u001b[0m\u001b[37m\u001b[0m \u001b[1m1s\u001b[0m 3ms/step - accuracy: 0.9290 - loss: 0.1908 - recall: 0.9218 - val_accuracy: 0.9376 - val_loss: 0.1649 - val_recall: 0.9160\n",
      "Epoch 3/50\n",
      "\u001b[1m251/251\u001b[0m \u001b[32m━━━━━━━━━━━━━━━━━━━━\u001b[0m\u001b[37m\u001b[0m \u001b[1m1s\u001b[0m 3ms/step - accuracy: 0.9374 - loss: 0.1739 - recall: 0.9281 - val_accuracy: 0.9417 - val_loss: 0.1571 - val_recall: 0.9312\n",
      "Epoch 4/50\n",
      "\u001b[1m251/251\u001b[0m \u001b[32m━━━━━━━━━━━━━━━━━━━━\u001b[0m\u001b[37m\u001b[0m \u001b[1m1s\u001b[0m 3ms/step - accuracy: 0.9389 - loss: 0.1635 - recall: 0.9372 - val_accuracy: 0.9475 - val_loss: 0.1548 - val_recall: 0.9510\n",
      "Epoch 5/50\n",
      "\u001b[1m251/251\u001b[0m \u001b[32m━━━━━━━━━━━━━━━━━━━━\u001b[0m\u001b[37m\u001b[0m \u001b[1m1s\u001b[0m 3ms/step - accuracy: 0.9405 - loss: 0.1566 - recall: 0.9384 - val_accuracy: 0.9399 - val_loss: 0.1609 - val_recall: 0.9312\n",
      "Epoch 6/50\n",
      "\u001b[1m251/251\u001b[0m \u001b[32m━━━━━━━━━━━━━━━━━━━━\u001b[0m\u001b[37m\u001b[0m \u001b[1m1s\u001b[0m 3ms/step - accuracy: 0.9472 - loss: 0.1463 - recall: 0.9434 - val_accuracy: 0.9457 - val_loss: 0.1543 - val_recall: 0.9498\n",
      "Epoch 7/50\n",
      "\u001b[1m251/251\u001b[0m \u001b[32m━━━━━━━━━━━━━━━━━━━━\u001b[0m\u001b[37m\u001b[0m \u001b[1m1s\u001b[0m 3ms/step - accuracy: 0.9458 - loss: 0.1397 - recall: 0.9435 - val_accuracy: 0.9405 - val_loss: 0.1551 - val_recall: 0.9265\n",
      "Epoch 8/50\n",
      "\u001b[1m251/251\u001b[0m \u001b[32m━━━━━━━━━━━━━━━━━━━━\u001b[0m\u001b[37m\u001b[0m \u001b[1m1s\u001b[0m 3ms/step - accuracy: 0.9490 - loss: 0.1381 - recall: 0.9447 - val_accuracy: 0.9463 - val_loss: 0.1515 - val_recall: 0.9522\n",
      "Epoch 9/50\n",
      "\u001b[1m251/251\u001b[0m \u001b[32m━━━━━━━━━━━━━━━━━━━━\u001b[0m\u001b[37m\u001b[0m \u001b[1m1s\u001b[0m 3ms/step - accuracy: 0.9560 - loss: 0.1298 - recall: 0.9528 - val_accuracy: 0.9446 - val_loss: 0.1623 - val_recall: 0.9370\n",
      "Epoch 10/50\n",
      "\u001b[1m251/251\u001b[0m \u001b[32m━━━━━━━━━━━━━━━━━━━━\u001b[0m\u001b[37m\u001b[0m \u001b[1m1s\u001b[0m 3ms/step - accuracy: 0.9517 - loss: 0.1287 - recall: 0.9474 - val_accuracy: 0.9452 - val_loss: 0.1583 - val_recall: 0.9510\n",
      "Epoch 11/50\n",
      "\u001b[1m251/251\u001b[0m \u001b[32m━━━━━━━━━━━━━━━━━━━━\u001b[0m\u001b[37m\u001b[0m \u001b[1m1s\u001b[0m 3ms/step - accuracy: 0.9541 - loss: 0.1230 - recall: 0.9518 - val_accuracy: 0.9481 - val_loss: 0.1481 - val_recall: 0.9498\n",
      "Epoch 12/50\n",
      "\u001b[1m251/251\u001b[0m \u001b[32m━━━━━━━━━━━━━━━━━━━━\u001b[0m\u001b[37m\u001b[0m \u001b[1m1s\u001b[0m 3ms/step - accuracy: 0.9548 - loss: 0.1192 - recall: 0.9532 - val_accuracy: 0.9463 - val_loss: 0.1511 - val_recall: 0.9452\n",
      "Epoch 13/50\n",
      "\u001b[1m251/251\u001b[0m \u001b[32m━━━━━━━━━━━━━━━━━━━━\u001b[0m\u001b[37m\u001b[0m \u001b[1m1s\u001b[0m 3ms/step - accuracy: 0.9549 - loss: 0.1179 - recall: 0.9518 - val_accuracy: 0.9417 - val_loss: 0.1588 - val_recall: 0.9603\n",
      "Epoch 14/50\n",
      "\u001b[1m251/251\u001b[0m \u001b[32m━━━━━━━━━━━━━━━━━━━━\u001b[0m\u001b[37m\u001b[0m \u001b[1m1s\u001b[0m 3ms/step - accuracy: 0.9591 - loss: 0.1127 - recall: 0.9556 - val_accuracy: 0.9417 - val_loss: 0.1618 - val_recall: 0.9312\n",
      "Epoch 15/50\n",
      "\u001b[1m251/251\u001b[0m \u001b[32m━━━━━━━━━━━━━━━━━━━━\u001b[0m\u001b[37m\u001b[0m \u001b[1m1s\u001b[0m 3ms/step - accuracy: 0.9570 - loss: 0.1119 - recall: 0.9533 - val_accuracy: 0.9428 - val_loss: 0.1669 - val_recall: 0.9510\n",
      "Epoch 16/50\n",
      "\u001b[1m251/251\u001b[0m \u001b[32m━━━━━━━━━━━━━━━━━━━━\u001b[0m\u001b[37m\u001b[0m \u001b[1m1s\u001b[0m 3ms/step - accuracy: 0.9619 - loss: 0.1091 - recall: 0.9613 - val_accuracy: 0.9469 - val_loss: 0.1564 - val_recall: 0.9452\n",
      "Epoch 17/50\n",
      "\u001b[1m251/251\u001b[0m \u001b[32m━━━━━━━━━━━━━━━━━━━━\u001b[0m\u001b[37m\u001b[0m \u001b[1m1s\u001b[0m 3ms/step - accuracy: 0.9608 - loss: 0.1042 - recall: 0.9596 - val_accuracy: 0.9457 - val_loss: 0.1561 - val_recall: 0.9370\n",
      "Epoch 18/50\n",
      "\u001b[1m251/251\u001b[0m \u001b[32m━━━━━━━━━━━━━━━━━━━━\u001b[0m\u001b[37m\u001b[0m \u001b[1m1s\u001b[0m 3ms/step - accuracy: 0.9623 - loss: 0.1003 - recall: 0.9606 - val_accuracy: 0.9393 - val_loss: 0.1700 - val_recall: 0.9335\n"
     ]
    }
   ],
   "source": [
    "X = df[features]\n",
    "y = df['status']\n",
    "\n",
    "# Map the 'status' to numerical labels\n",
    "label_mapping = {'legitimate': 0, 'phishing': 1}\n",
    "y = y.map(label_mapping)\n",
    "\n",
    "# Handle missing values in features if any\n",
    "X.fillna(0, inplace=True)\n",
    "\n",
    "# Reshape the data\n",
    "X_reshaped = X.values\n",
    "\n",
    "# Perform the split as specified\n",
    "X_train, X_temp, y_train, y_temp = train_test_split(X_reshaped, y, test_size=0.3, random_state=seed, stratify=y)\n",
    "X_val, X_test, y_val, y_test = train_test_split(X_temp, y_temp, test_size=0.5, random_state=seed, stratify=y_temp)\n",
    "\n",
    "# Standardize the features\n",
    "scaler = StandardScaler()\n",
    "X_train_scaled = scaler.fit_transform(X_train)\n",
    "X_val_scaled = scaler.transform(X_val)\n",
    "X_test_scaled = scaler.transform(X_test)\n",
    "\n",
    "# Reshape for CNN\n",
    "X_train_cnn = X_train_scaled.reshape(-1, X_train_scaled.shape[1], 1)\n",
    "X_val_cnn = X_val_scaled.reshape(-1, X_val_scaled.shape[1], 1)\n",
    "X_test_cnn = X_test_scaled.reshape(-1, X_test_scaled.shape[1], 1)\n",
    "\n",
    "\n",
    "best_params = {'dense_units': 64, 'dropout_rate_1': 0.2, 'dropout_rate_2': 0.2, 'filters_1': 32, 'filters_2': 64, 'kernel_size_1': 3, 'kernel_size_2': 2, 'learning_rate': 0.01}\n",
    "\n",
    "# Create and train the model with best parameters\n",
    "print(\"\\nTraining final model with best parameters...\")\n",
    "best_cnn = create_model(**best_params)\n",
    "\n",
    "# Early stopping callback\n",
    "early_stopping = EarlyStopping(monitor='val_recall', patience=5, \n",
    "                             restore_best_weights=True, mode='max')\n",
    "\n",
    "# Train the model\n",
    "history = best_cnn.fit(\n",
    "    X_train_cnn, y_train,\n",
    "    epochs=50,\n",
    "    validation_data=(X_val_cnn, y_val),\n",
    "    callbacks=[early_stopping],\n",
    "    verbose=1\n",
    ")"
   ]
  },
  {
   "cell_type": "code",
   "execution_count": 9,
   "id": "d052f308-6395-488a-9ffa-4d0c7319eb83",
   "metadata": {},
   "outputs": [],
   "source": [
    "# LSTM"
   ]
  },
  {
   "cell_type": "code",
   "execution_count": 10,
   "id": "2fe05483-0f00-464e-b762-99e160b88387",
   "metadata": {},
   "outputs": [
    {
     "name": "stderr",
     "output_type": "stream",
     "text": [
      "D:\\anaconda3\\envs\\testing\\Lib\\site-packages\\keras\\src\\layers\\rnn\\rnn.py:204: UserWarning: Do not pass an `input_shape`/`input_dim` argument to a layer. When using Sequential models, prefer using an `Input(shape)` object as the first layer in the model instead.\n",
      "  super().__init__(**kwargs)\n"
     ]
    },
    {
     "name": "stdout",
     "output_type": "stream",
     "text": [
      "Epoch 1/5\n",
      "\u001b[1m251/251\u001b[0m \u001b[32m━━━━━━━━━━━━━━━━━━━━\u001b[0m\u001b[37m\u001b[0m \u001b[1m16s\u001b[0m 60ms/step - accuracy: 0.9109 - loss: 0.3214 - val_accuracy: 0.9452 - val_loss: 0.1545\n",
      "Epoch 2/5\n",
      "\u001b[1m251/251\u001b[0m \u001b[32m━━━━━━━━━━━━━━━━━━━━\u001b[0m\u001b[37m\u001b[0m \u001b[1m15s\u001b[0m 59ms/step - accuracy: 0.9444 - loss: 0.1454 - val_accuracy: 0.9463 - val_loss: 0.1436\n",
      "Epoch 3/5\n",
      "\u001b[1m251/251\u001b[0m \u001b[32m━━━━━━━━━━━━━━━━━━━━\u001b[0m\u001b[37m\u001b[0m \u001b[1m15s\u001b[0m 58ms/step - accuracy: 0.9518 - loss: 0.1277 - val_accuracy: 0.9510 - val_loss: 0.1370\n",
      "Epoch 4/5\n",
      "\u001b[1m251/251\u001b[0m \u001b[32m━━━━━━━━━━━━━━━━━━━━\u001b[0m\u001b[37m\u001b[0m \u001b[1m15s\u001b[0m 59ms/step - accuracy: 0.9555 - loss: 0.1169 - val_accuracy: 0.9516 - val_loss: 0.1337\n",
      "Epoch 5/5\n",
      "\u001b[1m251/251\u001b[0m \u001b[32m━━━━━━━━━━━━━━━━━━━━\u001b[0m\u001b[37m\u001b[0m \u001b[1m15s\u001b[0m 59ms/step - accuracy: 0.9590 - loss: 0.1100 - val_accuracy: 0.9539 - val_loss: 0.1308\n",
      "\u001b[1m54/54\u001b[0m \u001b[32m━━━━━━━━━━━━━━━━━━━━\u001b[0m\u001b[37m\u001b[0m \u001b[1m0s\u001b[0m 5ms/step\n",
      "Accuracy: 0.9650\n",
      "Precision: 0.9672\n",
      "Recall:  0.9627\n",
      "F1 Score: 0.9649\n",
      "ROC_AUC Score: 0.9650\n",
      "              precision    recall  f1-score   support\n",
      "\n",
      "           0       0.96      0.97      0.97       858\n",
      "           1       0.97      0.96      0.96       857\n",
      "\n",
      "    accuracy                           0.97      1715\n",
      "   macro avg       0.97      0.97      0.97      1715\n",
      "weighted avg       0.97      0.97      0.97      1715\n",
      "\n"
     ]
    }
   ],
   "source": [
    "seed = 42\n",
    "np.random.seed(seed)\n",
    "random.seed(seed)\n",
    "tf.random.set_seed(seed)\n",
    "tf.keras.utils.set_random_seed(seed)\n",
    "\n",
    "#Reshape features with 1 timestep to fit into RNN\n",
    "X_reshaped = X_scaled.reshape((X.shape[0],1,X.shape[1]))  \n",
    "\n",
    "le = LabelEncoder()\n",
    "y = le.fit_transform(df[\"status\"])\n",
    "X_train, X_temp, y_train, y_temp = train_test_split(X_reshaped, y, test_size=0.3, random_state=42, stratify=y)\n",
    "X_val, X_test, y_val, y_test = train_test_split(X_temp, y_temp, test_size=0.5, random_state=42, stratify=y_temp)\n",
    "\n",
    "#Define model to fir into GridSearch later\n",
    "def build_model(hp):\n",
    "    model = Sequential()\n",
    "    model.add(LSTM(hp.Choice('units',[128,512,1024,2048]), activation=hp.Choice('activation',['relu','tanh']),input_shape=(1,X.shape[1]))) #4 Different layer sizes\n",
    "    model.add(Dropout(hp.Float('dropout',0.1,0.5,step=0.1))) #5 different dropout values\n",
    "    model.add(Dense(1, activation='sigmoid'))\n",
    "    model.compile(optimizer='adam', loss='binary_crossentropy', metrics=['accuracy'])\n",
    "    return model\n",
    "\n",
    "best_lstm = Sequential()\n",
    "best_lstm.add(LSTM(1024, activation='relu',input_shape=(1,X.shape[1]))) \n",
    "best_lstm.add(Dropout(0.1))\n",
    "best_lstm.add(Dense(1, activation='sigmoid'))\n",
    "best_lstm.compile(optimizer='adam', loss='binary_crossentropy', metrics=['accuracy'])\n",
    "\n",
    "history = best_lstm.fit(X_train, y_train, epochs=5, batch_size=32, validation_data=(X_val,y_val))\n",
    "\n",
    "y_pred = (best_lstm.predict(X_test) > 0.5)\n",
    "\n",
    "print(f\"Accuracy: {accuracy_score(y_test,y_pred):.4f}\")\n",
    "print(f\"Precision: {precision_score(y_test,y_pred):.4f}\")\n",
    "print(f\"Recall:  {recall_score(y_test,y_pred):.4f}\")\n",
    "print(f\"F1 Score: {f1_score(y_test,y_pred):.4f}\")\n",
    "print(f\"ROC_AUC Score: {roc_auc_score(y_test,y_pred):.4f}\")\n",
    "print(classification_report(y_test, y_pred))"
   ]
  },
  {
   "cell_type": "code",
   "execution_count": 11,
   "id": "8a1038fb-515a-425a-8f68-9f041500a9f1",
   "metadata": {},
   "outputs": [],
   "source": [
    "# Hard Voting Ensemble Model"
   ]
  },
  {
   "cell_type": "code",
   "execution_count": 12,
   "id": "c9daf125-5ef1-4a68-b979-222e57a629c9",
   "metadata": {},
   "outputs": [
    {
     "name": "stdout",
     "output_type": "stream",
     "text": [
      "\u001b[1m54/54\u001b[0m \u001b[32m━━━━━━━━━━━━━━━━━━━━\u001b[0m\u001b[37m\u001b[0m \u001b[1m0s\u001b[0m 3ms/step\n",
      "\u001b[1m54/54\u001b[0m \u001b[32m━━━━━━━━━━━━━━━━━━━━\u001b[0m\u001b[37m\u001b[0m \u001b[1m0s\u001b[0m 3ms/step\n",
      "Ensemble Model Performance Metrics:\n",
      "Accuracy: 0.9668\n",
      "Precision: 0.9598\n",
      "Recall: 0.9743\n",
      "F1 Score: 0.9670\n",
      "ROC AUC Score: 0.9668\n"
     ]
    },
    {
     "data": {
      "image/png": "[encoded data removed]",
      "text/plain": [
       "<Figure size 640x480 with 2 Axes>"
      ]
     },
     "metadata": {},
     "output_type": "display_data"
    },
    {
     "name": "stdout",
     "output_type": "stream",
     "text": [
      "Classification Report (Ensemble):\n",
      "               precision    recall  f1-score   support\n",
      "\n",
      "           0       0.97      0.96      0.97       858\n",
      "           1       0.96      0.97      0.97       857\n",
      "\n",
      "    accuracy                           0.97      1715\n",
      "   macro avg       0.97      0.97      0.97      1715\n",
      "weighted avg       0.97      0.97      0.97      1715\n",
      "\n"
     ]
    }
   ],
   "source": [
    "# Make predictions with each model on the test set\n",
    "y_pred_mlp = best_mlp.predict(X_test.reshape(X_test.shape[0], -1))  # MLP model expects 2D input\n",
    "y_pred_cnn = best_cnn.predict(X_test_cnn).ravel()  # CNN model prediction\n",
    "y_pred_lstm = best_lstm.predict(X_test).ravel()  # LSTM model prediction\n",
    "\n",
    "# Threshold CNN and LSTM predictions\n",
    "y_pred_cnn = (y_pred_cnn > 0.5).astype(int)\n",
    "y_pred_lstm = (y_pred_lstm > 0.5).astype(int)\n",
    "\n",
    "# Combine predictions in a matrix\n",
    "predictions = np.column_stack((y_pred_mlp, y_pred_cnn, y_pred_lstm))\n",
    "\n",
    "# Majority voting: get the mode (most common prediction) for each sample across the models\n",
    "y_pred_ensemble = np.apply_along_axis(lambda x: np.bincount(x).argmax(), axis=1, arr=predictions)\n",
    "\n",
    "# Calculate and display performance metrics\n",
    "accuracy = accuracy_score(y_test, y_pred_ensemble)\n",
    "precision = precision_score(y_test, y_pred_ensemble)\n",
    "recall = recall_score(y_test, y_pred_ensemble)\n",
    "f1 = f1_score(y_test, y_pred_ensemble)\n",
    "roc_auc = roc_auc_score(y_test, y_pred_ensemble)\n",
    "\n",
    "print(\"Ensemble Model Performance Metrics:\")\n",
    "print(f\"Accuracy: {accuracy:.4f}\")\n",
    "print(f\"Precision: {precision:.4f}\")\n",
    "print(f\"Recall: {recall:.4f}\")\n",
    "print(f\"F1 Score: {f1:.4f}\")\n",
    "print(f\"ROC AUC Score: {roc_auc:.4f}\")\n",
    "\n",
    "# Confusion Matrix\n",
    "ensemble_conf_matrix = confusion_matrix(y_test, y_pred_ensemble)\n",
    "sns.heatmap(ensemble_conf_matrix, annot=True, fmt='d', cmap='Blues')\n",
    "plt.title('Confusion Matrix (Ensemble)')\n",
    "plt.xlabel('Predicted Label')\n",
    "plt.ylabel('True Label')\n",
    "plt.show()\n",
    "\n",
    "# Classification Report\n",
    "print(\"Classification Report (Ensemble):\\n\", classification_report(y_test, y_pred_ensemble))"
   ]
  },
  {
   "cell_type": "code",
   "execution_count": null,
   "id": "fa66dceb-6b21-40c5-b741-60cbc000bdcf",
   "metadata": {},
   "outputs": [],
   "source": []
  }
 ],
 "metadata": {
  "kernelspec": {
   "display_name": "Python 3 (ipykernel)",
   "language": "python",
   "name": "python3"
  },
  "language_info": {
   "codemirror_mode": {
    "name": "ipython",
    "version": 3
   },
   "file_extension": ".py",
   "mimetype": "text/x-python",
   "name": "python",
   "nbconvert_exporter": "python",
   "pygments_lexer": "ipython3",
   "version": "3.12.7"
  }
 },
 "nbformat": 4,
 "nbformat_minor": 5
}
