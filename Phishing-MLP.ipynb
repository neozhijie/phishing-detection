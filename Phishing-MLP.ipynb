{
 "cells": [
  {
   "cell_type": "code",
   "execution_count": 1,
   "id": "887e724a-94fb-4e26-a958-3f6508bd21c5",
   "metadata": {},
   "outputs": [
    {
     "name": "stderr",
     "output_type": "stream",
     "text": [
      "C:\\Users\\linyu\\AppData\\Local\\Temp\\ipykernel_24280\\3459847097.py:2: DeprecationWarning: \n",
      "Pyarrow will become a required dependency of pandas in the next major release of pandas (pandas 3.0),\n",
      "(to allow more performant data types, such as the Arrow string type, and better interoperability with other libraries)\n",
      "but was not found to be installed on your system.\n",
      "If this would cause problems for you,\n",
      "please provide us feedback at https://github.com/pandas-dev/pandas/issues/54466\n",
      "        \n",
      "  import pandas as pd\n"
     ]
    }
   ],
   "source": [
    "# Import packages\n",
    "import pandas as pd\n",
    "import numpy as np\n",
    "import matplotlib.pyplot as plt\n",
    "from sklearn.feature_selection import VarianceThreshold\n",
    "import seaborn as sns\n",
    "from sklearn.ensemble import RandomForestClassifier\n",
    "from sklearn.linear_model import LassoCV\n",
    "from sklearn.model_selection import train_test_split\n",
    "from sklearn.preprocessing import StandardScaler, LabelEncoder\n",
    "from sklearn.metrics import (accuracy_score, precision_score, recall_score, f1_score, roc_auc_score, classification_report, confusion_matrix)"
   ]
  },
  {
   "cell_type": "code",
   "execution_count": 2,
   "id": "bfffbf90-add9-4011-82e2-9db029fd9b58",
   "metadata": {},
   "outputs": [],
   "source": [
    "# Read data\n",
    "df = pd.read_csv('dataset_phishing.csv')"
   ]
  },
  {
   "cell_type": "code",
   "execution_count": 3,
   "id": "77671735-877f-4e9e-8c93-0e90f9420d9f",
   "metadata": {},
   "outputs": [],
   "source": [
    "features = ['shortest_word_path',\n",
    " 'ratio_intMedia',\n",
    " 'links_in_tags',\n",
    " 'nb_hyphens',\n",
    " 'page_rank',\n",
    " 'avg_word_path',\n",
    " 'ratio_extHyperlinks',\n",
    " 'longest_words_raw',\n",
    " 'google_index',\n",
    " 'length_hostname',\n",
    " 'longest_word_host',\n",
    " 'domain_registration_length',\n",
    " 'nb_www',\n",
    " 'nb_underscore',\n",
    " 'nb_dots',\n",
    " 'ratio_extMedia',\n",
    " 'phish_hints',\n",
    " 'domain_in_title',\n",
    " 'web_traffic',\n",
    " 'safe_anchor',\n",
    " 'nb_space',\n",
    " 'shortening_service',\n",
    " 'ip',\n",
    " 'domain_age',\n",
    " 'nb_qm',\n",
    " 'nb_hyperlinks',\n",
    " 'nb_slash']"
   ]
  },
  {
   "cell_type": "code",
   "execution_count": 4,
   "id": "8c83b0ac-9b8e-4cfe-b715-4002ae2437db",
   "metadata": {},
   "outputs": [],
   "source": [
    "X = df[features]\n",
    "\n",
    "scaler = StandardScaler()\n",
    "X_scaled = scaler.fit_transform(X)\n",
    "\n",
    "le = LabelEncoder()\n",
    "y = le.fit_transform(df[\"status\"])\n",
    "\n",
    "X_train, X_test, y_train, y_test = train_test_split(X_scaled, y, test_size=0.3, random_state=42)"
   ]
  },
  {
   "cell_type": "code",
   "execution_count": 5,
   "id": "50a473f7-fcfc-4530-84c6-aa972e9fce33",
   "metadata": {},
   "outputs": [
    {
     "name": "stdout",
     "output_type": "stream",
     "text": [
      "Fitting 5 folds for each of 12 candidates, totalling 60 fits\n",
      "Best hyperparameters found: {'activation': 'tanh', 'alpha': 0.006, 'hidden_layer_sizes': (100, 50), 'learning_rate': 'constant', 'learning_rate_init': 0.008, 'solver': 'sgd'}\n",
      "Accuracy: 0.9618\n",
      "Precision: 0.9606\n",
      "Recall: 0.9623\n",
      "F1 Score: 0.9614\n",
      "ROC AUC Score: 0.9618\n"
     ]
    },
    {
     "data": {
      "image/png": "[encoded data removed]",
      "text/plain": [
       "<Figure size 640x480 with 2 Axes>"
      ]
     },
     "metadata": {},
     "output_type": "display_data"
    },
    {
     "name": "stdout",
     "output_type": "stream",
     "text": [
      "Classification Report:\n",
      "               precision    recall  f1-score   support\n",
      "\n",
      "           0       0.96      0.96      0.96      1732\n",
      "           1       0.96      0.96      0.96      1697\n",
      "\n",
      "    accuracy                           0.96      3429\n",
      "   macro avg       0.96      0.96      0.96      3429\n",
      "weighted avg       0.96      0.96      0.96      3429\n",
      "\n"
     ]
    }
   ],
   "source": [
    "from sklearn.neural_network import MLPClassifier\n",
    "from sklearn.model_selection import GridSearchCV\n",
    "\n",
    "mlp = MLPClassifier(max_iter=2000, random_state=42)\n",
    "\n",
    "# Set up hyperparameter grid for tuning\n",
    "param_grid = {\n",
    "    'hidden_layer_sizes': [(100, 50)],\n",
    "    'activation': ['relu', 'tanh', 'logistic'],\n",
    "    'solver': ['adam', 'sgd'],\n",
    "    'alpha': [0.006],\n",
    "    'learning_rate': ['constant', 'adaptive'],\n",
    "    'learning_rate_init': [0.008]\n",
    "}\n",
    "\n",
    "\n",
    "# Use GridSearchCV to find the best hyperparameters\n",
    "grid_search = GridSearchCV(mlp, param_grid, cv=5, scoring='recall', n_jobs=-1, verbose=2)\n",
    "grid_search.fit(X_train, y_train)\n",
    "\n",
    "# Get the best model from the grid search\n",
    "best_mlp = grid_search.best_estimator_\n",
    "\n",
    "# Evaluate the model on the test set\n",
    "y_pred = best_mlp.predict(X_test)\n",
    "\n",
    "# Calculate performance metrics\n",
    "accuracy = accuracy_score(y_test, y_pred)\n",
    "precision = precision_score(y_test, y_pred)\n",
    "recall = recall_score(y_test, y_pred)\n",
    "f1 = f1_score(y_test, y_pred)\n",
    "roc_auc = roc_auc_score(y_test, y_pred)\n",
    "\n",
    "# Print the best hyperparameters and evaluation metrics\n",
    "print(\"Best hyperparameters found:\", grid_search.best_params_)\n",
    "print(f\"Accuracy: {accuracy:.4f}\")\n",
    "print(f\"Precision: {precision:.4f}\")\n",
    "print(f\"Recall: {recall:.4f}\")\n",
    "print(f\"F1 Score: {f1:.4f}\")\n",
    "print(f\"ROC AUC Score: {roc_auc:.4f}\")\n",
    "\n",
    "# Confusion Matrix\n",
    "conf_matrix = confusion_matrix(y_test, y_pred)\n",
    "sns.heatmap(conf_matrix, annot=True, fmt='d', cmap='Blues')\n",
    "plt.title('Confusion Matrix')\n",
    "plt.xlabel('Predicted Label')\n",
    "plt.ylabel('True Label')\n",
    "plt.show()\n",
    "\n",
    "# Classification Report\n",
    "print(\"Classification Report:\\n\", classification_report(y_test, y_pred))"
   ]
  },
  {
   "cell_type": "code",
   "execution_count": 6,
   "id": "ad7bc3c5-e813-4be5-8a17-48e77507d0d4",
   "metadata": {},
   "outputs": [
    {
     "name": "stdout",
     "output_type": "stream",
     "text": [
      "[[1665   67]\n",
      " [  64 1633]]\n"
     ]
    }
   ],
   "source": [
    "cm = confusion_matrix(y_test, y_pred)\n",
    "print(cm)"
   ]
  },
  {
   "cell_type": "markdown",
   "id": "415f181b-6a87-4b9b-b50e-89baf1aab43f",
   "metadata": {},
   "source": [
    "-\r\n",
    "\r\n",
    "## Observations\r\n",
    "\r\n",
    "**True Negatives (1665)**:\r\n",
    "- The model correctly identified **1665 legitimate websites** as legitimate, demonstrating strong performance in avoiding false positives.\r\n",
    "\r\n",
    "**False Positives (67)**:\r\n",
    "- The model incorrectly classified **67 legitimate websites** as phishing. While this number is relatively low, it is crucial in phishing detection, as flagging legitimate sites could inconvenience users.\r\n",
    "\r\n",
    "**False Negatives (64)**:\r\n",
    "- The model missed **64 phishing websites**, classifying them as legitimate. This is a concern, as reducing false negatives would enhance recall and ensure that more phishing websites are detected.\r\n",
    "\r\n",
    "**True Positives (1633)**:\r\n",
    "- The model correctly identified **1633 phishing websites** as phishing. This indicates a high level of effectiveness in detecting phishing threats.\r\n",
    "\r\n",
    "## Overall Performance:\r\n",
    "- **Accuracy (96.18%)**: Very good performance overall.\r\n",
    "- **Precision (96.06%)**: Excellent at avoiding false positives, ensuring that legitimate websites are rarely misclassified.\r\n",
    "- **Recall (96.23%)**: Excellent at detecting true positives, indicating that the model is effective at identifying phishing attempts.\r\n",
    "- **F1 Score (96.14%)**: Strong balance between precision and recall, suggesting the model performs well in both identifying phishing sites and minimizing false alerts.\r\n",
    "- **ROC AUC Score (96.18%)**: Indicates a high capability of the model to distinguish between phishing and legitimate websites.\r\n",
    "\r\n",
    "## Best Hyperparameters:\r\n",
    "The best hyperparameters found for the model were:\r\n",
    "- **Activation**: tanh\r\n",
    "- **Alpha**: 0.006\r\n",
    "- **Hidden Layer Sizes**: (100, 50)\r\n",
    "- **Learning Rate**: constant\r\n",
    "- **Learning Rate Init**: 0.008\r\n",
    "- **Solver**: sgd\r\n"
   ]
  },
  {
   "cell_type": "code",
   "execution_count": null,
   "id": "e4b1bc50-681b-4d73-862c-5f46ea4e6768",
   "metadata": {},
   "outputs": [],
   "source": []
  }
 ],
 "metadata": {
  "kernelspec": {
   "display_name": "Python 3 (ipykernel)",
   "language": "python",
   "name": "python3"
  },
  "language_info": {
   "codemirror_mode": {
    "name": "ipython",
    "version": 3
   },
   "file_extension": ".py",
   "mimetype": "text/x-python",
   "name": "python",
   "nbconvert_exporter": "python",
   "pygments_lexer": "ipython3",
   "version": "3.12.1"
  }
 },
 "nbformat": 4,
 "nbformat_minor": 5
}
